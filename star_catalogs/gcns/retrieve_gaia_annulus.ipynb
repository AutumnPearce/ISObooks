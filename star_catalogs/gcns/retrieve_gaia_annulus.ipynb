{
 "cells": [
  {
   "cell_type": "code",
   "execution_count": null,
   "metadata": {},
   "outputs": [],
   "source": [
    "#IMPORTS\n",
    "import astropy\n",
    "from astroquery.gaia import Gaia\n",
    "import numpy\n",
    "import pandas as pd\n",
    "Gaia.login(credentials_file='../files/gaia_credentials.txt')"
   ]
  }
 ],
 "metadata": {
  "language_info": {
   "name": "python"
  }
 },
 "nbformat": 4,
 "nbformat_minor": 2
}
