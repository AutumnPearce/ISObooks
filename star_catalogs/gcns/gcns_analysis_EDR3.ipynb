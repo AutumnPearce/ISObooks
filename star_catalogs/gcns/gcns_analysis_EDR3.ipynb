{
 "cells": [
  {
   "cell_type": "code",
   "execution_count": 2,
   "id": "cacf7d85-e864-4f0c-92ba-c18d716a57fa",
   "metadata": {
    "tags": []
   },
   "outputs": [],
   "source": [
    "import numpy as np\n",
    "import pandas as pd\n",
    "\n",
    "import matplotlib.pyplot as plt\n",
    "\n",
    "from tqdm import tqdm"
   ]
  },
  {
   "cell_type": "code",
   "execution_count": 3,
   "id": "c3a79a7a-090a-4bfd-9e15-7c6c8fa2cfac",
   "metadata": {
    "tags": []
   },
   "outputs": [],
   "source": [
    "column_names = [\n",
    "    \"GaiaEDR3\", \"RAdeg\", \"e_RAdeg\", \"DEdeg\", \"e_DEdeg\", \"Plx\", \"e_Plx\",\n",
    "    \"pmRA\", \"e_pmRA\", \"pmDE\", \"e_pmDE\", \"Gmag\", \"RFG\", \"BPmag\",\n",
    "    \"RFBP\", \"RPmag\", \"RFRP\", \"E(BP/RP)\", \"RUWE\", \"IPDfmp\",\n",
    "    \"RV\", \"e_RV\", \"r_RV\", \"f_RV\", \"GCNSprob\", \"WDprob\",\n",
    "    \"Dist1\", \"Dist16\", \"Dist50\", \"Dist84\", \"xcoord50\", \"xcoord16\", \"xcoord84\",\n",
    "    \"ycoord50\", \"ycoord16\", \"ycoord84\", \"zcoord50\", \"zcoord16\", \"zcoord84\",\n",
    "    \"Uvel50\", \"Uvel16\", \"Uvel84\", \"Vvel50\", \"Vvel16\", \"Vvel84\",\n",
    "    \"Wvel50\", \"Wvel16\", \"Wvel84\", \"GUNN\", \"r_GUNN\",\n",
    "    \"gmag\", \"e_gmag\", \"rmag\", \"e_rmag\", \"imag\", \"e_imag\", \"zmag\", \"e_zmag\",\n",
    "    \"2MASS\", \"Jmag\", \"e_Jmag\", \"Hmag\", \"e_Hmag\", \"Ksmag\", \"e_Ksmag\",\n",
    "    \"WISE\", \"W1mag\", \"e_W1mag\", \"W2mag\", \"e_W2mag\",\n",
    "    \"W3mag\", \"e_W3mag\", \"W4mag\", \"e_W4mag\"\n",
    "]\n",
    "\n",
    "# we'll probably only need these columns for our analysis\n",
    "# might as well drop the columns \n",
    "to_keep = [\n",
    "    \"GaiaEDR3\", \"RAdeg\", \"DEdeg\",\n",
    "    \"Gmag\", \"RFG\", \"BPmag\",\n",
    "    \"RFBP\", \"RPmag\", \"RFRP\", \"E(BP/RP)\",\n",
    "    \"GCNSprob\", \"WDprob\",\n",
    "    \"Dist1\", \"Dist16\", \"Dist50\", \"Dist84\", \n",
    "    \"xcoord50\", \"xcoord16\", \"xcoord84\",\n",
    "    \"ycoord50\", \"ycoord16\", \"ycoord84\", \n",
    "    \"zcoord50\", \"zcoord16\", \"zcoord84\",\n",
    "    \"Uvel50\", \"Uvel16\", \"Uvel84\",\n",
    "    \"Vvel50\", \"Vvel16\", \"Vvel84\",\n",
    "    \"Wvel50\", \"Wvel16\", \"Wvel84\",\n",
    "    \"gmag\", \"rmag\", \"imag\", \"zmag\"\n",
    "]\n",
    "\n",
    "x = pd.read_csv(\"../files/table1c.csv\", header = None)\n",
    "x.columns = column_names\n",
    "x.to_csv(\"../files/gcns_EDR3.csv\")\n",
    "\n",
    "x = x[to_keep].copy()"
   ]
  },
  {
   "cell_type": "code",
   "execution_count": 4,
   "id": "d63b3c2f-5210-40ba-a6c4-1f5e7b04c3f4",
   "metadata": {
    "tags": []
   },
   "outputs": [
    {
     "name": "stdout",
     "output_type": "stream",
     "text": [
      "13.598\n"
     ]
    }
   ],
   "source": [
    "# (U, V, W) velocity of the inbound trajectory\n",
    "oumuamua = np.array([-11.457, -22.395, -7.746]) # Mamajek (2017)\n",
    "# heliocentric Galactic velocity\n",
    "\n",
    "LSR = np.array([-10, -11, -7]) # Mamajek (2017)\n",
    "# consensus LSR estimate from Bland-Hawthorn & Gerhard (2016)\n",
    "\n",
    "oumuamua_LSR_velocity = np.sqrt(np.sum(oumuamua-LSR)**2)\n",
    "print(oumuamua_LSR_velocity)"
   ]
  },
  {
   "cell_type": "code",
   "execution_count": 5,
   "id": "7147abd5-1d0d-4499-86af-d131fc9ec8b3",
   "metadata": {
    "tags": []
   },
   "outputs": [
    {
     "name": "stdout",
     "output_type": "stream",
     "text": [
      "[-10.785 -17.858  -7.442]\n"
     ]
    }
   ],
   "source": [
    "# get the median U, V, W of the GCNS sample\n",
    "U_median = np.median(x[\"Uvel50\"].dropna())\n",
    "V_median = np.median(x[\"Vvel50\"].dropna())\n",
    "W_median = np.median(x[\"Wvel50\"].dropna())\n",
    "# expect U, W to be around LSR\n",
    "# expect V to lag due to asymmetric drift\n",
    "print(np.round([U_median, V_median, W_median], 3))"
   ]
  },
  {
   "cell_type": "code",
   "execution_count": 6,
   "id": "dd3d2d92-b221-4435-b8b2-290ed820b81d",
   "metadata": {
    "tags": []
   },
   "outputs": [
    {
     "name": "stdout",
     "output_type": "stream",
     "text": [
      "[37.519 28.821 21.78 ]\n"
     ]
    },
    {
     "data": {
      "text/plain": [
       "52.083869351386284"
      ]
     },
     "execution_count": 6,
     "metadata": {},
     "output_type": "execute_result"
    }
   ],
   "source": [
    "# get the standard deviations in U, V, W of the GCNS sample\n",
    "U_std = np.std(x[\"Uvel50\"].dropna())\n",
    "V_std = np.std(x[\"Vvel50\"].dropna())\n",
    "W_std = np.std(x[\"Wvel50\"].dropna())\n",
    "\n",
    "print(np.round([U_std, V_std, W_std], 3))\n",
    "np.sqrt(U_std**2 + V_std**2 + W_std**2)"
   ]
  },
  {
   "cell_type": "code",
   "execution_count": 7,
   "id": "156a580b-05d3-49c1-99a7-413070f046c8",
   "metadata": {
    "tags": []
   },
   "outputs": [
    {
     "name": "stdout",
     "output_type": "stream",
     "text": [
      "GaiaEDR3    2.334666e+18\n",
      "Uvel50               NaN\n",
      "Name: 0, dtype: float64\n",
      "1029\n"
     ]
    }
   ],
   "source": [
    "# issue: not many GCNS stars have velocities\n",
    "# example below...\n",
    "print(x.iloc[0][[\"GaiaEDR3\", \"Uvel50\"]])\n",
    "print(x[x[\"Dist50\"] < 0.020][\"Uvel50\"].isna().sum())"
   ]
  },
  {
   "cell_type": "code",
   "execution_count": 8,
   "id": "2bda3487-fa76-4131-aacb-acaa9371f810",
   "metadata": {
    "tags": []
   },
   "outputs": [
    {
     "data": {
      "text/plain": [
       "Text(0, 0.5, 'Number of Stars per Bin')"
      ]
     },
     "execution_count": 8,
     "metadata": {},
     "output_type": "execute_result"
    },
    {
     "data": {
      "image/png": "[encoded data removed]",
      "text/plain": [
       "<Figure size 640x480 with 1 Axes>"
      ]
     },
     "metadata": {},
     "output_type": "display_data"
    }
   ],
   "source": [
    "# radial velocities seem to be magnitude-limited\n",
    "fig, ax = plt.subplots()\n",
    "df_with_vel = np.array(x[x[['Uvel50', 'Vvel50', 'Wvel50']].notnull().all(axis=1)][[\"Gmag\"]]).flatten()\n",
    "df_without_vel = np.array(x[~x[['Uvel50', 'Vvel50', 'Wvel50']].notnull().all(axis=1)][[\"Gmag\"]]).flatten()\n",
    "\n",
    "\n",
    "ax.hist([df_with_vel, df_without_vel], stacked=\"True\",\\\n",
    "    bins = np.linspace(5, 20),\\\n",
    "    label = [\"with velocities\", \"without velocities\"],\\\n",
    "    color = [\"dodgerblue\", \"mediumblue\"])\n",
    "#ax.hist(df_without_vel[\"Gmag\"], stacked = True)\n",
    "ax.set_yscale(\"log\")\n",
    "\n",
    "ax.legend()\n",
    "\n",
    "ax.set_xlabel(\"Gaia G-Magnitude\", fontsize = 12)\n",
    "ax.set_ylabel(\"Number of Stars per Bin\", fontsize = 12)"
   ]
  },
  {
   "cell_type": "code",
   "execution_count": 9,
   "id": "24616a47-042a-4d7b-b417-dbe4e8ad9ac0",
   "metadata": {},
   "outputs": [
    {
     "data": {
      "image/png": "[encoded data removed]",
      "text/plain": [
       "<Figure size 640x480 with 1 Axes>"
      ]
     },
     "metadata": {},
     "output_type": "display_data"
    }
   ],
   "source": [
    "# get the LSR velocities of the stars\n",
    "fig, ax = plt.subplots()\n",
    "to_plot = np.sqrt(((x[\"Uvel50\"] - LSR[0])**2\\\n",
    "    + (x[\"Vvel50\"]- LSR[1])**2 \\\n",
    "    + (x[\"Wvel50\"] - LSR[2])**2)).dropna()\n",
    "\n",
    "ax.hist(to_plot, bins = np.linspace(0, 150, 75), color = \"dodgerblue\", alpha = 0.6)\n",
    "ax.axvline(oumuamua_LSR_velocity, c = \"black\", ls = \":\")\n",
    "\n",
    "plt.show()"
   ]
  },
  {
   "cell_type": "code",
   "execution_count": 10,
   "id": "87a5d7b4-e7a5-42cd-8f29-1d560ef592da",
   "metadata": {
    "tags": []
   },
   "outputs": [
    {
     "data": {
      "text/plain": [
       "0.9179436120352606"
      ]
     },
     "execution_count": 10,
     "metadata": {},
     "output_type": "execute_result"
    }
   ],
   "source": [
    "# for what fraction of stars with velocities is\n",
    "#   `Oumuamua's velocity versus the LSR slower?\n",
    "(to_plot > oumuamua_LSR_velocity).sum()/len(to_plot)"
   ]
  },
  {
   "cell_type": "code",
   "execution_count": 11,
   "id": "212ca3e1-ccb0-4374-8db6-e5c549b846da",
   "metadata": {
    "tags": []
   },
   "outputs": [
    {
     "name": "stdout",
     "output_type": "stream",
     "text": [
      "0.07173431595037907\n"
     ]
    }
   ],
   "source": [
    "# number density of stars within 100pc\n",
    "n_stars = len(x[x[\"Dist50\"] < 0.1])\n",
    "stars_per_pc_cubed = n_stars / (4/3 * np.pi * 100**3)\n",
    "print(stars_per_pc_cubed)"
   ]
  },
  {
   "cell_type": "code",
   "execution_count": 12,
   "id": "18c9a821-d219-46d8-b017-90925e653f51",
   "metadata": {
    "tags": []
   },
   "outputs": [
    {
     "data": {
      "text/plain": [
       "300480"
      ]
     },
     "execution_count": 12,
     "metadata": {},
     "output_type": "execute_result"
    }
   ],
   "source": [
    "n_stars"
   ]
  },
  {
   "cell_type": "code",
   "execution_count": 13,
   "id": "50af191d-5008-4095-a92e-d90b62dc5258",
   "metadata": {
    "tags": []
   },
   "outputs": [],
   "source": [
    "#U0, V0, W0 = [7.5, 13.5, 6.8] # solar peculiar motion"
   ]
  },
  {
   "cell_type": "code",
   "execution_count": 14,
   "id": "26c43fc4-df9d-4588-bb94-5933e6e31160",
   "metadata": {
    "tags": []
   },
   "outputs": [
    {
     "name": "stderr",
     "output_type": "stream",
     "text": [
      "100%|██████████| 1000/1000 [02:46<00:00,  6.01it/s]\n"
     ]
    }
   ],
   "source": [
    "# get a dataframe of the velocities \n",
    "vel_cols = ['Uvel50', 'Vvel50', 'Wvel50']\n",
    "df_velocities = x[x[vel_cols].notnull().all(axis=1)].copy()\n",
    "df_velocities = df_velocities.reset_index(drop=True)\n",
    "\n",
    "collisional_velocities = []\n",
    "\n",
    "# select n_rows random rows within this dataframe\n",
    "n_rows = 1000\n",
    "sample_rows = df_velocities.sample(n_rows).index\n",
    "\n",
    "for r in tqdm(sample_rows):\n",
    "    tmp_df = df_velocities.sample(1000)\n",
    "    for i, row in tmp_df.iterrows():\n",
    "        if i == r:\n",
    "            pass\n",
    "        else:\n",
    "            # select the rows from the dataframe\n",
    "            row = df_velocities.iloc[r]\n",
    "            row2 = df_velocities.iloc[i]\n",
    "            # get the velocity difference between the stars\n",
    "            vel_diff = np.sqrt((row[\"Uvel50\"] - row2[\"Uvel50\"])**2\\\n",
    "                + (row[\"Vvel50\"] - row2[\"Vvel50\"])**2\\\n",
    "                + (row[\"Wvel50\"] - row2[\"Wvel50\"])**2)\n",
    "            # append that velocity to the running list of collisional velocities\n",
    "            collisional_velocities.append(vel_diff)"
   ]
  },
  {
   "cell_type": "code",
   "execution_count": 15,
   "id": "d69c7a41-886f-4d50-baf5-5a00ddbe3e0b",
   "metadata": {
    "tags": []
   },
   "outputs": [
    {
     "data": {
      "image/png": "[encoded data removed]",
      "text/plain": [
       "<Figure size 640x480 with 1 Axes>"
      ]
     },
     "metadata": {},
     "output_type": "display_data"
    }
   ],
   "source": [
    "fig, ax = plt.subplots()\n",
    "ax.hist(collisional_velocities, bins = np.logspace(0, 2.3, 200))\n",
    "ax.axvline(3)\n",
    "ax.set_xlim(1, 200)\n",
    "ax.set_xscale(\"log\")\n",
    "plt.show()"
   ]
  },
  {
   "cell_type": "code",
   "execution_count": 16,
   "id": "73715314-60eb-4c0f-9060-896f9dcaa345",
   "metadata": {
    "tags": []
   },
   "outputs": [
    {
     "data": {
      "text/plain": [
       "0.00012500125001250011"
      ]
     },
     "execution_count": 16,
     "metadata": {},
     "output_type": "execute_result"
    }
   ],
   "source": [
    "(np.array(collisional_velocities) < 2).sum()/len(collisional_velocities)"
   ]
  },
  {
   "cell_type": "code",
   "execution_count": null,
   "id": "7d9bb802-ca5a-4e61-ad10-14cf1532d05f",
   "metadata": {},
   "outputs": [],
   "source": [
    "# Monte Carlo \"disk-kick model\"\n",
    "\"\"\"\n",
    "1. initialize host stars with kinematics like those of molecular clouds\n",
    "2. simulate disk-heating for each one by generating Poisson-distributed\n",
    "  events for each star in the population\n",
    "3. at each event, draw from 3D Maxwell-Boltzmann distribution and apply\n",
    "  the velocity kick to perturb the star\n",
    "4. at a certain galactic time, look at the distribution of ISO velocities\n",
    "    - how many particles have old ages and `Oumuamua-like kinematics\n",
    "    - how many particles are young and have `Oumuamua-like kinematics\n",
    "    - how do these results compare to kinematically-complete survey\n",
    "\"\"\"\n"
   ]
  }
 ],
 "metadata": {
  "kernelspec": {
   "display_name": "Python 3 (ipykernel)",
   "language": "python",
   "name": "python3"
  },
  "language_info": {
   "codemirror_mode": {
    "name": "ipython",
    "version": 3
   },
   "file_extension": ".py",
   "mimetype": "text/x-python",
   "name": "python",
   "nbconvert_exporter": "python",
   "pygments_lexer": "ipython3",
   "version": "3.9.18"
  }
 },
 "nbformat": 4,
 "nbformat_minor": 5
}
