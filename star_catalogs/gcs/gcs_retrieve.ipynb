{
 "cells": [
  {
   "cell_type": "markdown",
   "metadata": {},
   "source": [
    "# Retrieve and Format GCS Data\n",
    "Grab file \"table1.dat.gz\" from link below, and place in the folder called \"files\" (one level above current folder).\n",
    "http://cdsarc.u-strasbg.fr/viz-bin/Cat?V/117A#/browse"
   ]
  },
  {
   "cell_type": "code",
   "execution_count": 1,
   "metadata": {},
   "outputs": [],
   "source": [
    "# imports\n",
    "import pandas as pd\n",
    "import numpy as np"
   ]
  },
  {
   "cell_type": "code",
   "execution_count": 2,
   "metadata": {},
   "outputs": [
    {
     "name": "stderr",
     "output_type": "stream",
     "text": [
      "/var/folders/_1/kjfmx9l970x8msh8rfwt4fzr0000gn/T/ipykernel_58389/2177547359.py:56: DtypeWarning: Columns (36,37,38) have mixed types. Specify dtype option on import or set low_memory=False.\n",
      "  data = pd.read_csv('../files/table1.dat.gz', sep='|', names = column_names)\n"
     ]
    }
   ],
   "source": [
    "# format column names\n",
    "column_names = \"\"\"HIP\n",
    "Name\n",
    "Comp\n",
    "fb\n",
    "fs\n",
    "RA\n",
    "DE\n",
    "GLON\n",
    "GLAT\n",
    "Vmag\n",
    "bymag\t\n",
    "Hbetamag\t\n",
    "E(b-y)\n",
    "logTe\n",
    "[Fe/H]\n",
    "Dist\n",
    "VMAG\n",
    "dVMag\n",
    "fr\n",
    "fg\n",
    "Age\n",
    "clAge\n",
    "chAge\n",
    "mass\n",
    "clmass\n",
    "chmass\n",
    "name\n",
    "RVel\n",
    "meRVel\n",
    "e1\n",
    "o\n",
    "dT\n",
    "chi2\n",
    "fd\n",
    "fv\n",
    "vsini\n",
    "pmRA\n",
    "pmDE\n",
    "e2\n",
    "plx\n",
    "plxe\n",
    "UVel\n",
    "VVel\n",
    "WVel\n",
    "Rgal\n",
    "zgal\n",
    "Rmin\n",
    "Rmax\n",
    "ecc\n",
    "zmax\n",
    "Notes\"\"\"\n",
    "column_names = column_names.split(sep='\\n')\n",
    "\n",
    "#read in data\n",
    "data = pd.read_csv('../files/table1.dat.gz', sep='|', names = column_names)\n",
    "data\n",
    "\n",
    "# place a .csv version of the file in \"files.\" (easier to open in vs code.)\n",
    "data.to_csv('../files/table1_gcs.csv', index=False)"
   ]
  }
 ],
 "metadata": {
  "kernelspec": {
   "display_name": "astronomy_general",
   "language": "python",
   "name": "python3"
  },
  "language_info": {
   "codemirror_mode": {
    "name": "ipython",
    "version": 3
   },
   "file_extension": ".py",
   "mimetype": "text/x-python",
   "name": "python",
   "nbconvert_exporter": "python",
   "pygments_lexer": "ipython3",
   "version": "3.9.18"
  },
  "orig_nbformat": 4
 },
 "nbformat": 4,
 "nbformat_minor": 2
}
