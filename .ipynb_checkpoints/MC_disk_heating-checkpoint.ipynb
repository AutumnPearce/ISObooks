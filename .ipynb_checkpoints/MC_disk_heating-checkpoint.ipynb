{
 "cells": [
  {
   "cell_type": "code",
   "execution_count": 3,
   "id": "7d5df6e2-3bf4-451a-89ef-d4901d886bef",
   "metadata": {},
   "outputs": [],
   "source": [
    "import numpy as np\n",
    "import matplotlib.pyplot as plt\n",
    "\n",
    "np.random.seed(0)\n",
    "\n",
    "from scipy.stats import maxwell\n"
   ]
  },
  {
   "cell_type": "code",
   "execution_count": 4,
   "id": "09332fa1-b202-4d40-bc64-b2af2dabe094",
   "metadata": {},
   "outputs": [
    {
     "data": {
      "text/plain": [
       "'\\n1. initialize host stars with kinematics like those of molecular clouds\\n2. simulate disk-heating for each one by generating Poisson-distributed\\n  events for each star in the population\\n3. at each event, draw from 3D Maxwell-Boltzmann distribution and apply\\n  the velocity kick to perturb the star\\n4. at a certain galactic time, look at the distribution of ISO velocities\\n    - how many particles have old ages and `Oumuamua-like kinematics\\n    - how many particles are young and have `Oumuamua-like kinematics\\n    - how do these results compare to kinematically-complete survey\\n'"
      ]
     },
     "execution_count": 4,
     "metadata": {},
     "output_type": "execute_result"
    }
   ],
   "source": [
    "# Monte Carlo \"disk-kick model\"\n",
    "\"\"\"\n",
    "1. initialize host stars with kinematics like those of molecular clouds\n",
    "2. simulate disk-heating for each one by generating Poisson-distributed\n",
    "  events for each star in the population\n",
    "3. at each event, draw from 3D Maxwell-Boltzmann distribution and apply\n",
    "  the velocity kick to perturb the star\n",
    "4. at a certain galactic time, look at the distribution of ISO velocities\n",
    "    - how many particles have old ages and `Oumuamua-like kinematics\n",
    "    - how many particles are young and have `Oumuamua-like kinematics\n",
    "    - how do these results compare to kinematically-complete survey\n",
    "\"\"\""
   ]
  },
  {
   "cell_type": "code",
   "execution_count": 30,
   "id": "c4bdb2aa-4179-4377-bf67-a96f2a78db28",
   "metadata": {},
   "outputs": [],
   "source": [
    "Ncomet = 100\n",
    "# draw velocities from standard normal distribution\n",
    "initial_velocities = np.random.randn(Nstar, 3)"
   ]
  },
  {
   "cell_type": "code",
   "execution_count": 31,
   "id": "b9e67f38-fcaa-47ff-acaf-56e4b2c31ac6",
   "metadata": {},
   "outputs": [],
   "source": [
    "# assume same rate constant throughout time\n",
    "event_rate = 1/125 # units are Myr^{-1} \n",
    "# ^the underlying rate of disk-heating events\n",
    "\n",
    "# draw Poisson events for a 1 Myr interval\n",
    "# array length is the number of comets\n",
    "#  i.e. zeroth index is the number of events that \n",
    "#   comet 1 experienced in the simulated 1 Myr interval\n",
    "event_counts = np.random.poisson(event_rate, size=Ncomet)"
   ]
  },
  {
   "cell_type": "code",
   "execution_count": 46,
   "id": "67c99ed0-685c-4499-82b1-f467edad40e9",
   "metadata": {},
   "outputs": [
    {
     "data": {
      "image/png": "[encoded data removed]",
      "text/plain": [
       "<Figure size 640x480 with 1 Axes>"
      ]
     },
     "metadata": {},
     "output_type": "display_data"
    }
   ],
   "source": [
    "# scale factor is a = sqrt(kT/m) related to \"thermal energy\" of the stars\n",
    "#np.median(maxwell.rvs(size=10000, scale = 10)) \n",
    "# ^should be 2 * scale / sqrt(2/pi)\n",
    "\n",
    "# loc is an offset from zero for the minimum value\n",
    "\n",
    "# plot a histogram to explore the Maxwell-Boltzmann distribution\n",
    "#   and ensure that we know what the parameter do\n",
    "fig, ax = plt.subplots()\n",
    "ax.hist(maxwell.rvs(size=10000, scale = 10, loc = 0), bins = 100)\n",
    "plt.show()"
   ]
  },
  {
   "cell_type": "code",
   "execution_count": 65,
   "id": "e42d5bc4-e0cc-4cb9-9890-88211d7e6817",
   "metadata": {},
   "outputs": [],
   "source": [
    "# set the number of Myr to run the simulation\n",
    "tot_time = 250\n",
    "\n",
    "# get a list of the number of disk-heating events that \n",
    "# the star experiences in each timestep\n",
    "star_events = np.random.poisson(event_rate, size=tot_time)\n",
    "\n",
    "# get a list of the number of disk-heating events that\n",
    "#  the exo-comets experience in each timestep\n",
    "comet_events = np.random.poisson(event_rate, size = (Ncomet, tot_time))"
   ]
  },
  {
   "cell_type": "code",
   "execution_count": 67,
   "id": "94431d52-12ef-4d97-9834-dc5bf5a681f4",
   "metadata": {},
   "outputs": [],
   "source": [
    "# TODO\n",
    "# convert the Poisson events into disk-heating events\n",
    "#   by applying a 3-D Maxwell-Boltzmann distribution\n",
    "#   kick for each event\n",
    "\n",
    "# at each timestep, check to see how many interstellar objects\n",
    "#   are traceable to their host star (i.e. neither has experienced\n",
    "#   a disk-heating event) and get the velocity dispersion\n",
    "\n",
    "# we'll want to run many stars to get a statistical sample"
   ]
  },
  {
   "cell_type": "code",
   "execution_count": null,
   "id": "3f30c2ec-eaf1-4517-8e8b-03aa71c4330f",
   "metadata": {},
   "outputs": [],
   "source": []
  },
  {
   "cell_type": "code",
   "execution_count": null,
   "id": "630a798b-991e-44ed-91af-bd829ce70804",
   "metadata": {},
   "outputs": [],
   "source": [
    "# here's an idea for the function that could be used to apply the velocity kicks\n",
    "def apply_kicks(velocities, event_counts):\n",
    "    for i, count in enumerate(event_counts):\n",
    "        for _ in range(count):\n",
    "            kick = maxwell.rvs(size=3, scale = 10)\n",
    "            velocities[i] += kick\n",
    "    return velocities\n",
    "\n",
    "updated_v = apply_kicks(initial_v, event_counts)"
   ]
  },
  {
   "cell_type": "code",
   "execution_count": null,
   "id": "3c9025ae-8626-4402-8e63-e4b731f9b0aa",
   "metadata": {},
   "outputs": [],
   "source": []
  }
 ],
 "metadata": {
  "kernelspec": {
   "display_name": "Python 3 (ipykernel)",
   "language": "python",
   "name": "python3"
  },
  "language_info": {
   "codemirror_mode": {
    "name": "ipython",
    "version": 3
   },
   "file_extension": ".py",
   "mimetype": "text/x-python",
   "name": "python",
   "nbconvert_exporter": "python",
   "pygments_lexer": "ipython3",
   "version": "3.10.11"
  }
 },
 "nbformat": 4,
 "nbformat_minor": 5
}
