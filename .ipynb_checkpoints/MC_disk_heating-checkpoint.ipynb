{
 "cells": [
  {
   "cell_type": "code",
   "execution_count": null,
   "id": "7d5df6e2-3bf4-451a-89ef-d4901d886bef",
   "metadata": {},
   "outputs": [],
   "source": [
    "# Monte Carlo \"disk-kick model\"\n",
    "\"\"\"\n",
    "1. initialize host stars with kinematics like those of molecular clouds\n",
    "2. simulate disk-heating for each one by generating Poisson-distributed\n",
    "  events for each star in the population\n",
    "3. at each event, draw from 3D Maxwell-Boltzmann distribution and apply\n",
    "  the velocity kick to perturb the star\n",
    "4. at a certain galactic time, look at the distribution of ISO velocities\n",
    "    - how many particles have old ages and `Oumuamua-like kinematics\n",
    "    - how many particles are young and have `Oumuamua-like kinematics\n",
    "    - how do these results compare to kinematically-complete survey\n",
    "\"\"\"\n"
   ]
  }
 ],
 "metadata": {
  "kernelspec": {
   "display_name": "Python 3 (ipykernel)",
   "language": "python",
   "name": "python3"
  },
  "language_info": {
   "codemirror_mode": {
    "name": "ipython",
    "version": 3
   },
   "file_extension": ".py",
   "mimetype": "text/x-python",
   "name": "python",
   "nbconvert_exporter": "python",
   "pygments_lexer": "ipython3",
   "version": "3.10.11"
  }
 },
 "nbformat": 4,
 "nbformat_minor": 5
}
